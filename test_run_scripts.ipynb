{
 "cells": [
  {
   "cell_type": "code",
   "execution_count": 1,
   "id": "a43d7bef",
   "metadata": {},
   "outputs": [],
   "source": [
    "from IPython import embed\n",
    "import pandas as pd\n",
    "import seaborn as sns\n",
    "import pylab as plt\n",
    "import numpy as np\n",
    "\n",
    "from phenom.phenom_db import *\n",
    "\n",
    "''' CONNECTING TO DATABASES '''\n",
    "# MYSQL - for metadata\n",
    "from ex_config import SQLALCHEMY_DATABASE_URI, MONGO_CNX\n",
    "\n",
    "from sqlalchemy import create_engine\n",
    "engine = create_engine(SQLALCHEMY_DATABASE_URI)\n",
    "from sqlalchemy.orm import sessionmaker\n",
    "Session = sessionmaker(bind=engine)\n",
    "session = Session()\n",
    "\n",
    "# Mongo for growth data\n",
    "import pymongo\n",
    "# Making a Connection with MongoClient\n",
    "myclient = pymongo.MongoClient(MONGO_CNX['client'],password='hpMmr2AZ9nQ3a8b')\n",
    "# database\n",
    "mydb = myclient[MONGO_CNX['db']]\n",
    "# collection\n",
    "mongo_table= mydb[MONGO_CNX['collection']]\n",
    "\n",
    "''' END DB CONNECTIONS'''\n",
    "\n",
    "\n",
    "from phenom import io\n",
    "from phenom import analysis\n",
    "from phenom import reports"
   ]
  },
  {
   "cell_type": "code",
   "execution_count": 2,
   "id": "fb65c0fa",
   "metadata": {},
   "outputs": [],
   "source": [
    "study_name = 'Mouse E. colis'\n",
    "#matrix = analysis.get_study_auc_matrix(session, study_name, index=['strain','media'], param='auc_ratio')\n",
    "#aucs = analysis.get_study_processed_data(session, study_name)"
   ]
  },
  {
   "cell_type": "code",
   "execution_count": 3,
   "id": "f6d8200e",
   "metadata": {},
   "outputs": [],
   "source": [
    "metadata = session.query(Runinfo).join(Study2runinfo).join(Studies).filter(Studies.study_name==study_name)"
   ]
  },
  {
   "cell_type": "code",
   "execution_count": 4,
   "id": "fb58d570",
   "metadata": {},
   "outputs": [
    {
     "name": "stdout",
     "output_type": "stream",
     "text": [
      "SELECT runinfo.plate_id AS runinfo_plate_id, runinfo.study AS runinfo_study, runinfo.plate_type AS runinfo_plate_type, runinfo.species AS runinfo_species, runinfo.strain AS runinfo_strain, runinfo.media AS runinfo_media, runinfo.rep AS runinfo_rep, runinfo.setup_time AS runinfo_setup_time \n",
      "FROM runinfo JOIN study2runinfo ON runinfo.plate_id = study2runinfo.plate_id JOIN studies ON studies.study_id = study2runinfo.study_id \n",
      "WHERE studies.study_name = ?\n"
     ]
    }
   ],
   "source": [
    "print(metadata)"
   ]
  },
  {
   "cell_type": "code",
   "execution_count": 5,
   "id": "32e00b7b",
   "metadata": {},
   "outputs": [
    {
     "name": "stdout",
     "output_type": "stream",
     "text": [
      "SELECT runinfo.plate_id, runinfo.study, runinfo.plate_type, runinfo.species, runinfo.strain, runinfo.media, runinfo.rep, runinfo.setup_time \n",
      "FROM runinfo JOIN study2runinfo ON runinfo.plate_id = study2runinfo.plate_id JOIN studies ON studies.study_id = study2runinfo.study_id \n",
      "WHERE studies.study_name = :study_name_1\n"
     ]
    }
   ],
   "source": [
    "print(metadata.statement)"
   ]
  },
  {
   "cell_type": "code",
   "execution_count": 6,
   "id": "f8e37800",
   "metadata": {},
   "outputs": [
    {
     "name": "stdout",
     "output_type": "stream",
     "text": [
      "SELECT runinfo.plate_id AS runinfo_plate_id, runinfo.study AS runinfo_study, runinfo.plate_type AS runinfo_plate_type, runinfo.species AS runinfo_species, runinfo.strain AS runinfo_strain, runinfo.media AS runinfo_media, runinfo.rep AS runinfo_rep, runinfo.setup_time AS runinfo_setup_time \n",
      "FROM runinfo\n"
     ]
    }
   ],
   "source": [
    "print(session.query(Runinfo))"
   ]
  },
  {
   "cell_type": "code",
   "execution_count": 8,
   "id": "9df1c699",
   "metadata": {},
   "outputs": [
    {
     "name": "stdout",
     "output_type": "stream",
     "text": [
      "<sqlalchemy.orm.session.Session object at 0x7f9bc210eb20>\n"
     ]
    }
   ],
   "source": [
    "print(session)"
   ]
  },
  {
   "cell_type": "code",
   "execution_count": null,
   "id": "51da85f4",
   "metadata": {},
   "outputs": [],
   "source": []
  }
 ],
 "metadata": {
  "kernelspec": {
   "display_name": "Python 3 (ipykernel)",
   "language": "python",
   "name": "python3"
  },
  "language_info": {
   "codemirror_mode": {
    "name": "ipython",
    "version": 3
   },
   "file_extension": ".py",
   "mimetype": "text/x-python",
   "name": "python",
   "nbconvert_exporter": "python",
   "pygments_lexer": "ipython3",
   "version": "3.8.10"
  }
 },
 "nbformat": 4,
 "nbformat_minor": 5
}
