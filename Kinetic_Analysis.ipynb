{
 "cells": [
  {
   "cell_type": "code",
   "execution_count": 2,
   "id": "f780d63e",
   "metadata": {},
   "outputs": [],
   "source": [
    "import numpy as np\n",
    "import pandas as pd\n",
    "from os import listdir\n",
    "from os.path import isfile, join\n",
    "import matplotlib.pyplot as plt\n",
    "from ipynb.fs.full.ActivityIndex import CurveFit\n",
    "from sklearn.cluster import KMeans\n",
    "from phenom.analysis import *"
   ]
  },
  {
   "cell_type": "code",
   "execution_count": 3,
   "id": "a082b695",
   "metadata": {},
   "outputs": [],
   "source": [
    "path1 = '/home/kkrishnan/SBRG/OmnilogDB/Data/Irina-YTF/Metadata'\n",
    "path2 = '/home/kkrishnan/SBRG/OmnilogDB/Data/Irina-YTF/Data'\n",
    "\n",
    "onlyfiles = [f for f in listdir(path1) if isfile(join(path1, f))]\n",
    "\n",
    "temp_data = pd.read_excel(path1+'/'+onlyfiles[0])\n",
    "temp_data_2 = pd.read_excel(path1+'/'+onlyfiles[1])\n",
    "\n",
    "metadata = pd.concat([temp_data,temp_data_2],ignore_index=True)\n",
    "\n",
    "for i in range(2,len(onlyfiles)):\n",
    "    temp_data = pd.read_excel(path1+'/'+onlyfiles[i])\n",
    "    metadata = pd.concat([metadata,temp_data],ignore_index=True)\n",
    "\n",
    "strains = metadata['Strain name'].unique().tolist()\n",
    "species = metadata['Species'].unique().tolist()\n",
    "\n",
    "\n",
    "plates = metadata['PM Type (PM1 or PM2, or PM3, or PM4...)'].tolist()\n",
    "\n",
    "for i in range(0,len(plates)):\n",
    "    plates[i]=plates[i][0:2]+'0'+plates[i][2:]\n",
    "    \n",
    "metadata['PM Type (PM1 or PM2, or PM3, or PM4...)'] = plates"
   ]
  },
  {
   "cell_type": "code",
   "execution_count": 4,
   "id": "972f3163",
   "metadata": {},
   "outputs": [],
   "source": [
    "## Create plate data type for each plate used\n",
    "\n",
    "def PM_datatype(plate,strain):\n",
    "    path1 = '/home/kkrishnan/SBRG/OmnilogDB/Data/Irina-YTF/Curated Data'\n",
    "    onlyfiles = [f for f in listdir(path1) if isfile(join(path1, f))]\n",
    "    strain_files = []\n",
    "    pm_datatype = []\n",
    "    for file in onlyfiles:\n",
    "        if(strain in file):\n",
    "            strain_files.append(file)\n",
    "            \n",
    "    for file in strain_files:\n",
    "        temp_data = pd.read_csv(path1+'/'+file)        \n",
    "        for temp_plate in temp_data['Plate Type'].unique():\n",
    "            print(temp_plate)\n",
    "            if(plate in temp_plate):\n",
    "                pm_datatype.append(temp_data)\n",
    "            \n",
    "    return pm_datatype\n"
   ]
  },
  {
   "cell_type": "code",
   "execution_count": 5,
   "id": "563dbf2e",
   "metadata": {},
   "outputs": [
    {
     "name": "stdout",
     "output_type": "stream",
     "text": [
      "PM01\n",
      "PM07\n",
      "PM05\n",
      "PM03B\n",
      "PM03B\n",
      "PM07\n",
      "PM02A\n",
      "PM02A\n",
      "PM05\n",
      "PM01\n",
      "PM07\n",
      "PM03B\n",
      "PM02A\n",
      "PM03B\n",
      "PM05\n",
      "PM02A\n",
      "PM01\n",
      "PM05\n",
      "PM07\n",
      "PM01\n"
     ]
    }
   ],
   "source": [
    "plates = metadata['PM Type (PM1 or PM2, or PM3, or PM4...)'].unique().tolist()\n",
    "strains = metadata['Strain name'].unique().tolist()\n",
    "\n",
    "eg_data = PM_datatype(plates[1],strains[0])\n",
    "exp_data = PM_datatype(plates[1],strains[1])\n"
   ]
  },
  {
   "cell_type": "code",
   "execution_count": 6,
   "id": "1a5c7951",
   "metadata": {},
   "outputs": [],
   "source": [
    "#CurveFit(np.array(eg_data[0]['Hour'].tolist()),np.array(eg_data[0]['A01'].tolist()))"
   ]
  },
  {
   "cell_type": "code",
   "execution_count": 7,
   "id": "8a47b217",
   "metadata": {},
   "outputs": [
    {
     "data": {
      "text/plain": [
       "['BW25113',\n",
       " 'ybaO',\n",
       " 'ybeF',\n",
       " 'ycaN',\n",
       " 'yeeY',\n",
       " 'yhjC',\n",
       " 'yiaG',\n",
       " 'yidZ',\n",
       " 'ynfL',\n",
       " 'yneJ',\n",
       " 'yahB']"
      ]
     },
     "execution_count": 7,
     "metadata": {},
     "output_type": "execute_result"
    }
   ],
   "source": [
    "strains"
   ]
  },
  {
   "cell_type": "code",
   "execution_count": 8,
   "id": "7bff5102",
   "metadata": {},
   "outputs": [
    {
     "data": {
      "text/plain": [
       "Index(['Number', 'Date (2022-02-23)',\n",
       "       'Project name (SBRG or your own project)', 'Researcher', 'Species',\n",
       "       'Strain name', 'WT or KO (if KO strain, please add the gene name)',\n",
       "       'Condition (Medium)', 'Temp (37 or 30)', 'Replicate (R1 or R2)',\n",
       "       'PM Type (PM1 or PM2, or PM3, or PM4...)',\n",
       "       'folder (AWS cloud folder if we transfer the data to AWS)',\n",
       "       'Number of Omnilog Shelf'],\n",
       "      dtype='object')"
      ]
     },
     "execution_count": 8,
     "metadata": {},
     "output_type": "execute_result"
    }
   ],
   "source": [
    "metadata.columns"
   ]
  },
  {
   "cell_type": "code",
   "execution_count": 9,
   "id": "0c28b602",
   "metadata": {},
   "outputs": [],
   "source": [
    "data = eg_data[1].iloc[:,8:]\n",
    "data2 = exp_data[1].iloc[:,8:]"
   ]
  },
  {
   "cell_type": "code",
   "execution_count": 10,
   "id": "87f6848f",
   "metadata": {},
   "outputs": [],
   "source": [
    "def plot_well_in_plate_for_strain(strain_name,strain_list,well):\n",
    "\n",
    "    plt.figure()\n",
    "    i = 1\n",
    "    for rep in strain_list:\n",
    "        plt.plot(rep['Hour'],rep[plate])\n",
    "        plt.title(well+''+','+' '+strain_name)\n",
    "        plt.ylabel('Respiration')\n",
    "        plt.xlabel('hours')\n",
    "        i = i+1\n",
    "    plt.legend(['R1','R2'])\n",
    "\n",
    "    "
   ]
  },
  {
   "cell_type": "code",
   "execution_count": 11,
   "id": "a260c9a8",
   "metadata": {},
   "outputs": [
    {
     "data": {
      "text/plain": [
       "<matplotlib.legend.Legend at 0x7fd7d8d97b20>"
      ]
     },
     "execution_count": 11,
     "metadata": {},
     "output_type": "execute_result"
    },
    {
     "data": {
      "image/png": "[encoded data removed]",
      "text/plain": [
       "<Figure size 1440x360 with 1 Axes>"
      ]
     },
     "metadata": {
      "needs_background": "light"
     },
     "output_type": "display_data"
    }
   ],
   "source": [
    "out = calc_plate_fc(data,'PM07')\n",
    "out2 = calc_plate_fc(data2,'PM07')\n",
    "plt.figure(figsize=(20,5))\n",
    "plt.bar(out['well'],out['log2FC'])\n",
    "plt.bar(out2['well'],out2['log2FC'])\n",
    "plt.xticks(rotation=90);\n",
    "plt.ylabel('Log Fold Change')\n",
    "plt.xlabel('Wells')\n",
    "plt.legend([strains[0],strains[1]])"
   ]
  },
  {
   "cell_type": "code",
   "execution_count": 12,
   "id": "5226905f",
   "metadata": {},
   "outputs": [
    {
     "data": {
      "text/plain": [
       "<matplotlib.legend.Legend at 0x7fd7d6a0cb50>"
      ]
     },
     "execution_count": 12,
     "metadata": {},
     "output_type": "execute_result"
    },
    {
     "data": {
      "image/png": "[encoded data removed]",
      "text/plain": [
       "<Figure size 1440x360 with 1 Axes>"
      ]
     },
     "metadata": {
      "needs_background": "light"
     },
     "output_type": "display_data"
    }
   ],
   "source": [
    "out = calc_plate_auc(data,'PM07')\n",
    "out2 = calc_plate_auc(data2,'PM07')\n",
    "plt.figure(figsize=(20,5))\n",
    "plt.bar(out['well'],out['auc'])\n",
    "plt.bar(out2['well'],out2['auc'])\n",
    "plt.xticks(rotation=90);\n",
    "plt.ylabel('AUC')\n",
    "plt.xlabel('Wells')\n",
    "plt.legend([strains[0],strains[1]])"
   ]
  },
  {
   "cell_type": "code",
   "execution_count": 13,
   "id": "06cf6fbc",
   "metadata": {},
   "outputs": [
    {
     "name": "stderr",
     "output_type": "stream",
     "text": [
      "/home/kkrishnan/SBRG/OmnilogDB/BiologDB/phenom/analysis.py:470: RuntimeWarning: overflow encountered in exp\n",
      "  return a*np.exp(-np.exp(b-c*time))\n",
      "/home/kkrishnan/SBRG/OmnilogDB/BiologDB/phenom/analysis.py:473: RuntimeWarning: invalid value encountered in power\n",
      "  return a + (b-a)/(1+c*np.exp(-d*time))**(1/e)\n",
      "/home/kkrishnan/SBRG/OmnilogDB/BiologDB/phenom/analysis.py:476: RuntimeWarning: overflow encountered in exp\n",
      "  return a/(1+np.exp(-b*(time-c)))\n",
      "/usr/local/lib/python3.8/dist-packages/scipy/optimize/_minpack_py.py:833: OptimizeWarning: Covariance of the parameters could not be estimated\n",
      "  warnings.warn('Covariance of the parameters could not be estimated',\n"
     ]
    },
    {
     "data": {
      "text/plain": [
       "<matplotlib.legend.Legend at 0x7fd7d4727070>"
      ]
     },
     "execution_count": 13,
     "metadata": {},
     "output_type": "execute_result"
    },
    {
     "data": {
      "image/png": "[encoded data removed]",
      "text/plain": [
       "<Figure size 432x288 with 1 Axes>"
      ]
     },
     "metadata": {
      "needs_background": "light"
     },
     "output_type": "display_data"
    }
   ],
   "source": [
    "temp = calc_plate_kinetics(eg_data[1],'PM05')\n",
    "out = calc_activity_index(temp,'PM05',4)\n",
    "AI1 = out[out['Activity Index']==3].index.tolist()\n",
    "avg = 0\n",
    "for i in AI1:\n",
    "    avg = avg + eg_data[1][i]\n",
    "avg = avg/len(AI1)\n",
    "plt.plot(avg,'r')\n",
    "plt.ylabel('Growth')\n",
    "plt.xlabel('Time')\n",
    "plt.title('Centroid of cluster')\n",
    "plt.legend(['AI = 3'])"
   ]
  },
  {
   "cell_type": "code",
   "execution_count": 14,
   "id": "e9d5eaee",
   "metadata": {},
   "outputs": [
    {
     "data": {
      "text/html": [
       "<div>\n",
       "<style scoped>\n",
       "    .dataframe tbody tr th:only-of-type {\n",
       "        vertical-align: middle;\n",
       "    }\n",
       "\n",
       "    .dataframe tbody tr th {\n",
       "        vertical-align: top;\n",
       "    }\n",
       "\n",
       "    .dataframe thead th {\n",
       "        text-align: right;\n",
       "    }\n",
       "</style>\n",
       "<table border=\"1\" class=\"dataframe\">\n",
       "  <thead>\n",
       "    <tr style=\"text-align: right;\">\n",
       "      <th></th>\n",
       "      <th>A01</th>\n",
       "      <th>A02</th>\n",
       "      <th>A03</th>\n",
       "      <th>A04</th>\n",
       "      <th>A05</th>\n",
       "      <th>A06</th>\n",
       "      <th>A07</th>\n",
       "      <th>A08</th>\n",
       "      <th>A09</th>\n",
       "      <th>A10</th>\n",
       "      <th>...</th>\n",
       "      <th>H03</th>\n",
       "      <th>H04</th>\n",
       "      <th>H05</th>\n",
       "      <th>H06</th>\n",
       "      <th>H07</th>\n",
       "      <th>H08</th>\n",
       "      <th>H09</th>\n",
       "      <th>H10</th>\n",
       "      <th>H11</th>\n",
       "      <th>H12</th>\n",
       "    </tr>\n",
       "  </thead>\n",
       "  <tbody>\n",
       "    <tr>\n",
       "      <th>A01</th>\n",
       "      <td>1.000000</td>\n",
       "      <td>0.922980</td>\n",
       "      <td>0.818701</td>\n",
       "      <td>0.843454</td>\n",
       "      <td>0.849098</td>\n",
       "      <td>0.905427</td>\n",
       "      <td>0.891800</td>\n",
       "      <td>0.922886</td>\n",
       "      <td>0.867687</td>\n",
       "      <td>0.880685</td>\n",
       "      <td>...</td>\n",
       "      <td>-0.163897</td>\n",
       "      <td>0.730946</td>\n",
       "      <td>0.810277</td>\n",
       "      <td>0.425267</td>\n",
       "      <td>0.401303</td>\n",
       "      <td>0.813989</td>\n",
       "      <td>0.731305</td>\n",
       "      <td>0.228483</td>\n",
       "      <td>0.786001</td>\n",
       "      <td>0.776452</td>\n",
       "    </tr>\n",
       "    <tr>\n",
       "      <th>A02</th>\n",
       "      <td>0.922980</td>\n",
       "      <td>1.000000</td>\n",
       "      <td>0.900443</td>\n",
       "      <td>0.931884</td>\n",
       "      <td>0.890798</td>\n",
       "      <td>0.981028</td>\n",
       "      <td>0.974525</td>\n",
       "      <td>0.998128</td>\n",
       "      <td>0.953354</td>\n",
       "      <td>0.962998</td>\n",
       "      <td>...</td>\n",
       "      <td>-0.246094</td>\n",
       "      <td>0.788561</td>\n",
       "      <td>0.873273</td>\n",
       "      <td>0.460605</td>\n",
       "      <td>0.395389</td>\n",
       "      <td>0.896943</td>\n",
       "      <td>0.792565</td>\n",
       "      <td>0.143260</td>\n",
       "      <td>0.844788</td>\n",
       "      <td>0.822091</td>\n",
       "    </tr>\n",
       "    <tr>\n",
       "      <th>A03</th>\n",
       "      <td>0.818701</td>\n",
       "      <td>0.900443</td>\n",
       "      <td>1.000000</td>\n",
       "      <td>0.993979</td>\n",
       "      <td>0.787053</td>\n",
       "      <td>0.960853</td>\n",
       "      <td>0.973044</td>\n",
       "      <td>0.918098</td>\n",
       "      <td>0.986735</td>\n",
       "      <td>0.982403</td>\n",
       "      <td>...</td>\n",
       "      <td>-0.186787</td>\n",
       "      <td>0.861516</td>\n",
       "      <td>0.921894</td>\n",
       "      <td>0.629246</td>\n",
       "      <td>0.458075</td>\n",
       "      <td>0.956938</td>\n",
       "      <td>0.900845</td>\n",
       "      <td>0.076075</td>\n",
       "      <td>0.833560</td>\n",
       "      <td>0.945743</td>\n",
       "    </tr>\n",
       "    <tr>\n",
       "      <th>A04</th>\n",
       "      <td>0.843454</td>\n",
       "      <td>0.931884</td>\n",
       "      <td>0.993979</td>\n",
       "      <td>1.000000</td>\n",
       "      <td>0.812437</td>\n",
       "      <td>0.974892</td>\n",
       "      <td>0.986786</td>\n",
       "      <td>0.944707</td>\n",
       "      <td>0.996103</td>\n",
       "      <td>0.992451</td>\n",
       "      <td>...</td>\n",
       "      <td>-0.226132</td>\n",
       "      <td>0.862116</td>\n",
       "      <td>0.933058</td>\n",
       "      <td>0.595733</td>\n",
       "      <td>0.450430</td>\n",
       "      <td>0.965885</td>\n",
       "      <td>0.895439</td>\n",
       "      <td>0.050175</td>\n",
       "      <td>0.843733</td>\n",
       "      <td>0.920417</td>\n",
       "    </tr>\n",
       "    <tr>\n",
       "      <th>A05</th>\n",
       "      <td>0.849098</td>\n",
       "      <td>0.890798</td>\n",
       "      <td>0.787053</td>\n",
       "      <td>0.812437</td>\n",
       "      <td>1.000000</td>\n",
       "      <td>0.871971</td>\n",
       "      <td>0.859744</td>\n",
       "      <td>0.888427</td>\n",
       "      <td>0.835530</td>\n",
       "      <td>0.847207</td>\n",
       "      <td>...</td>\n",
       "      <td>-0.097767</td>\n",
       "      <td>0.699504</td>\n",
       "      <td>0.767750</td>\n",
       "      <td>0.405856</td>\n",
       "      <td>0.370290</td>\n",
       "      <td>0.785348</td>\n",
       "      <td>0.681128</td>\n",
       "      <td>0.231344</td>\n",
       "      <td>0.787535</td>\n",
       "      <td>0.741018</td>\n",
       "    </tr>\n",
       "    <tr>\n",
       "      <th>...</th>\n",
       "      <td>...</td>\n",
       "      <td>...</td>\n",
       "      <td>...</td>\n",
       "      <td>...</td>\n",
       "      <td>...</td>\n",
       "      <td>...</td>\n",
       "      <td>...</td>\n",
       "      <td>...</td>\n",
       "      <td>...</td>\n",
       "      <td>...</td>\n",
       "      <td>...</td>\n",
       "      <td>...</td>\n",
       "      <td>...</td>\n",
       "      <td>...</td>\n",
       "      <td>...</td>\n",
       "      <td>...</td>\n",
       "      <td>...</td>\n",
       "      <td>...</td>\n",
       "      <td>...</td>\n",
       "      <td>...</td>\n",
       "      <td>...</td>\n",
       "    </tr>\n",
       "    <tr>\n",
       "      <th>H08</th>\n",
       "      <td>0.813989</td>\n",
       "      <td>0.896943</td>\n",
       "      <td>0.956938</td>\n",
       "      <td>0.965885</td>\n",
       "      <td>0.785348</td>\n",
       "      <td>0.931468</td>\n",
       "      <td>0.946493</td>\n",
       "      <td>0.906505</td>\n",
       "      <td>0.963586</td>\n",
       "      <td>0.956672</td>\n",
       "      <td>...</td>\n",
       "      <td>-0.242511</td>\n",
       "      <td>0.849767</td>\n",
       "      <td>0.918750</td>\n",
       "      <td>0.605097</td>\n",
       "      <td>0.476683</td>\n",
       "      <td>1.000000</td>\n",
       "      <td>0.890741</td>\n",
       "      <td>-0.014562</td>\n",
       "      <td>0.820859</td>\n",
       "      <td>0.888136</td>\n",
       "    </tr>\n",
       "    <tr>\n",
       "      <th>H09</th>\n",
       "      <td>0.731305</td>\n",
       "      <td>0.792565</td>\n",
       "      <td>0.900845</td>\n",
       "      <td>0.895439</td>\n",
       "      <td>0.681128</td>\n",
       "      <td>0.848782</td>\n",
       "      <td>0.864121</td>\n",
       "      <td>0.809173</td>\n",
       "      <td>0.890342</td>\n",
       "      <td>0.882678</td>\n",
       "      <td>...</td>\n",
       "      <td>-0.162032</td>\n",
       "      <td>0.787325</td>\n",
       "      <td>0.869175</td>\n",
       "      <td>0.636088</td>\n",
       "      <td>0.472369</td>\n",
       "      <td>0.890741</td>\n",
       "      <td>1.000000</td>\n",
       "      <td>0.050398</td>\n",
       "      <td>0.768196</td>\n",
       "      <td>0.872385</td>\n",
       "    </tr>\n",
       "    <tr>\n",
       "      <th>H10</th>\n",
       "      <td>0.228483</td>\n",
       "      <td>0.143260</td>\n",
       "      <td>0.076075</td>\n",
       "      <td>0.050175</td>\n",
       "      <td>0.231344</td>\n",
       "      <td>0.158299</td>\n",
       "      <td>0.113274</td>\n",
       "      <td>0.160430</td>\n",
       "      <td>0.076960</td>\n",
       "      <td>0.101326</td>\n",
       "      <td>...</td>\n",
       "      <td>0.203156</td>\n",
       "      <td>0.053146</td>\n",
       "      <td>0.003884</td>\n",
       "      <td>0.100027</td>\n",
       "      <td>0.047158</td>\n",
       "      <td>-0.014562</td>\n",
       "      <td>0.050398</td>\n",
       "      <td>1.000000</td>\n",
       "      <td>0.155658</td>\n",
       "      <td>0.214392</td>\n",
       "    </tr>\n",
       "    <tr>\n",
       "      <th>H11</th>\n",
       "      <td>0.786001</td>\n",
       "      <td>0.844788</td>\n",
       "      <td>0.833560</td>\n",
       "      <td>0.843733</td>\n",
       "      <td>0.787535</td>\n",
       "      <td>0.858116</td>\n",
       "      <td>0.857677</td>\n",
       "      <td>0.852184</td>\n",
       "      <td>0.857114</td>\n",
       "      <td>0.860960</td>\n",
       "      <td>...</td>\n",
       "      <td>-0.149436</td>\n",
       "      <td>0.783203</td>\n",
       "      <td>0.799440</td>\n",
       "      <td>0.530033</td>\n",
       "      <td>0.425326</td>\n",
       "      <td>0.820859</td>\n",
       "      <td>0.768196</td>\n",
       "      <td>0.155658</td>\n",
       "      <td>1.000000</td>\n",
       "      <td>0.811937</td>\n",
       "    </tr>\n",
       "    <tr>\n",
       "      <th>H12</th>\n",
       "      <td>0.776452</td>\n",
       "      <td>0.822091</td>\n",
       "      <td>0.945743</td>\n",
       "      <td>0.920417</td>\n",
       "      <td>0.741018</td>\n",
       "      <td>0.897376</td>\n",
       "      <td>0.898896</td>\n",
       "      <td>0.846536</td>\n",
       "      <td>0.919494</td>\n",
       "      <td>0.920206</td>\n",
       "      <td>...</td>\n",
       "      <td>-0.105919</td>\n",
       "      <td>0.832387</td>\n",
       "      <td>0.848087</td>\n",
       "      <td>0.706274</td>\n",
       "      <td>0.473848</td>\n",
       "      <td>0.888136</td>\n",
       "      <td>0.872385</td>\n",
       "      <td>0.214392</td>\n",
       "      <td>0.811937</td>\n",
       "      <td>1.000000</td>\n",
       "    </tr>\n",
       "  </tbody>\n",
       "</table>\n",
       "<p>96 rows × 96 columns</p>\n",
       "</div>"
      ],
      "text/plain": [
       "          A01       A02       A03       A04       A05       A06       A07  \\\n",
       "A01  1.000000  0.922980  0.818701  0.843454  0.849098  0.905427  0.891800   \n",
       "A02  0.922980  1.000000  0.900443  0.931884  0.890798  0.981028  0.974525   \n",
       "A03  0.818701  0.900443  1.000000  0.993979  0.787053  0.960853  0.973044   \n",
       "A04  0.843454  0.931884  0.993979  1.000000  0.812437  0.974892  0.986786   \n",
       "A05  0.849098  0.890798  0.787053  0.812437  1.000000  0.871971  0.859744   \n",
       "..        ...       ...       ...       ...       ...       ...       ...   \n",
       "H08  0.813989  0.896943  0.956938  0.965885  0.785348  0.931468  0.946493   \n",
       "H09  0.731305  0.792565  0.900845  0.895439  0.681128  0.848782  0.864121   \n",
       "H10  0.228483  0.143260  0.076075  0.050175  0.231344  0.158299  0.113274   \n",
       "H11  0.786001  0.844788  0.833560  0.843733  0.787535  0.858116  0.857677   \n",
       "H12  0.776452  0.822091  0.945743  0.920417  0.741018  0.897376  0.898896   \n",
       "\n",
       "          A08       A09       A10  ...       H03       H04       H05  \\\n",
       "A01  0.922886  0.867687  0.880685  ... -0.163897  0.730946  0.810277   \n",
       "A02  0.998128  0.953354  0.962998  ... -0.246094  0.788561  0.873273   \n",
       "A03  0.918098  0.986735  0.982403  ... -0.186787  0.861516  0.921894   \n",
       "A04  0.944707  0.996103  0.992451  ... -0.226132  0.862116  0.933058   \n",
       "A05  0.888427  0.835530  0.847207  ... -0.097767  0.699504  0.767750   \n",
       "..        ...       ...       ...  ...       ...       ...       ...   \n",
       "H08  0.906505  0.963586  0.956672  ... -0.242511  0.849767  0.918750   \n",
       "H09  0.809173  0.890342  0.882678  ... -0.162032  0.787325  0.869175   \n",
       "H10  0.160430  0.076960  0.101326  ...  0.203156  0.053146  0.003884   \n",
       "H11  0.852184  0.857114  0.860960  ... -0.149436  0.783203  0.799440   \n",
       "H12  0.846536  0.919494  0.920206  ... -0.105919  0.832387  0.848087   \n",
       "\n",
       "          H06       H07       H08       H09       H10       H11       H12  \n",
       "A01  0.425267  0.401303  0.813989  0.731305  0.228483  0.786001  0.776452  \n",
       "A02  0.460605  0.395389  0.896943  0.792565  0.143260  0.844788  0.822091  \n",
       "A03  0.629246  0.458075  0.956938  0.900845  0.076075  0.833560  0.945743  \n",
       "A04  0.595733  0.450430  0.965885  0.895439  0.050175  0.843733  0.920417  \n",
       "A05  0.405856  0.370290  0.785348  0.681128  0.231344  0.787535  0.741018  \n",
       "..        ...       ...       ...       ...       ...       ...       ...  \n",
       "H08  0.605097  0.476683  1.000000  0.890741 -0.014562  0.820859  0.888136  \n",
       "H09  0.636088  0.472369  0.890741  1.000000  0.050398  0.768196  0.872385  \n",
       "H10  0.100027  0.047158 -0.014562  0.050398  1.000000  0.155658  0.214392  \n",
       "H11  0.530033  0.425326  0.820859  0.768196  0.155658  1.000000  0.811937  \n",
       "H12  0.706274  0.473848  0.888136  0.872385  0.214392  0.811937  1.000000  \n",
       "\n",
       "[96 rows x 96 columns]"
      ]
     },
     "execution_count": 14,
     "metadata": {},
     "output_type": "execute_result"
    }
   ],
   "source": [
    "out = growth_correlation_map(data.iloc[:,1:],'PM03')\n",
    "out\n"
   ]
  },
  {
   "cell_type": "code",
   "execution_count": 15,
   "id": "31275b50",
   "metadata": {},
   "outputs": [
    {
     "data": {
      "text/plain": [
       "<seaborn.matrix.ClusterGrid at 0x7fd7d0ed8d00>"
      ]
     },
     "execution_count": 15,
     "metadata": {},
     "output_type": "execute_result"
    },
    {
     "data": {
      "image/png": "[encoded data removed]",
      "text/plain": [
       "<Figure size 720x720 with 4 Axes>"
      ]
     },
     "metadata": {
      "needs_background": "light"
     },
     "output_type": "display_data"
    }
   ],
   "source": [
    "import seaborn as sns\n",
    "sns.clustermap(out)"
   ]
  },
  {
   "cell_type": "code",
   "execution_count": null,
   "id": "485be65f",
   "metadata": {},
   "outputs": [],
   "source": []
  }
 ],
 "metadata": {
  "kernelspec": {
   "display_name": "Python 3.8.10 64-bit",
   "language": "python",
   "name": "python3"
  },
  "language_info": {
   "codemirror_mode": {
    "name": "ipython",
    "version": 3
   },
   "file_extension": ".py",
   "mimetype": "text/x-python",
   "name": "python",
   "nbconvert_exporter": "python",
   "pygments_lexer": "ipython3",
   "version": "3.8.10"
  },
  "vscode": {
   "interpreter": {
    "hash": "916dbcbb3f70747c44a77c7bcd40155683ae19c65e1c03b4aa3499c5328201f1"
   }
  }
 },
 "nbformat": 4,
 "nbformat_minor": 5
}
